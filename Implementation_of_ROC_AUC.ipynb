{
 "cells": [
  {
   "cell_type": "code",
   "execution_count": 1,
   "id": "6deb9349",
   "metadata": {},
   "outputs": [],
   "source": [
    "import numpy as np\n",
    "from sklearn.datasets import make_classification\n",
    "from sklearn.linear_model import LogisticRegression\n",
    "from sklearn.model_selection import train_test_split\n",
    "from sklearn.metrics import roc_curve\n",
    "from sklearn.metrics import roc_auc_score\n",
    "from matplotlib import pyplot"
   ]
  },
  {
   "cell_type": "code",
   "execution_count": 2,
   "id": "0755b6be",
   "metadata": {},
   "outputs": [],
   "source": [
    "# generate 2 class dataset\n",
    "X, y = make_classification(n_samples=1000, n_classes=2, random_state=1)\n",
    "# split into train/test sets\n",
    "X_train, X_test, y_train, y_test = train_test_split(X, y, test_size=0.5, random_state=2)"
   ]
  },
  {
   "cell_type": "code",
   "execution_count": 8,
   "id": "978db749",
   "metadata": {
    "scrolled": false
   },
   "outputs": [],
   "source": [
    "# fit a model\n",
    "model = LogisticRegression(solver='lbfgs')\n",
    "model.fit(X_train, y_train)\n",
    "# predict probabilities\n",
    "lr_probs = model.predict_proba(X_test)[:, 1]"
   ]
  },
  {
   "cell_type": "code",
   "execution_count": 26,
   "id": "26fc5ef7",
   "metadata": {},
   "outputs": [
    {
     "name": "stdout",
     "output_type": "stream",
     "text": [
      "Logistic: ROC AUC=0.9028205128\n"
     ]
    }
   ],
   "source": [
    "# calculate score\n",
    "lr_auc = roc_auc_score(y_test, lr_probs)\n",
    "# summarize score\n",
    "print('Logistic: ROC AUC=%.10f' % (lr_auc))\n",
    "# calculate roc curve\n",
    "lr_fpr, lr_tpr, _ = roc_curve(y_test, lr_probs)"
   ]
  },
  {
   "cell_type": "code",
   "execution_count": 5,
   "id": "e8cc01c8",
   "metadata": {},
   "outputs": [],
   "source": [
    "def perf_measure(y_actual, probs, thr):\n",
    "    tp, fp, tn, fn = 0, 0, 0, 0\n",
    "    for i in range(len(y_actual)):\n",
    "        if y_actual[i] == 1 and probs[i] > thr:\n",
    "            tp += 1\n",
    "        elif y_actual[i] == 0 and probs[i] < thr:\n",
    "            tn +=1            \n",
    "        elif y_actual[i] == 1 and probs[i] < thr:\n",
    "            fn += 1            \n",
    "        else: \n",
    "            fp += 1            \n",
    "    fpr = fp/(fp+tn)\n",
    "    tpr = tp/(tp+fn)\n",
    "    return fpr, tpr"
   ]
  },
  {
   "cell_type": "code",
   "execution_count": 18,
   "id": "caddbba2",
   "metadata": {},
   "outputs": [],
   "source": [
    "def RocCurve(y_test, lrprobs):\n",
    "    fpr = []\n",
    "    tpr = []\n",
    "    for thr in np.linspace(0, 1, 122, endpoint=True):\n",
    "        fpr.append(perf_measure(y_test, lrprobs, thr)[0])\n",
    "        tpr.append(perf_measure(y_test, lrprobs, thr)[1])\n",
    "    return np.array(fpr), np.array(tpr)"
   ]
  },
  {
   "cell_type": "code",
   "execution_count": 19,
   "id": "20666361",
   "metadata": {},
   "outputs": [
    {
     "data": {
      "image/png": "[encoded data removed]",
      "text/plain": [
       "<Figure size 432x288 with 1 Axes>"
      ]
     },
     "metadata": {
      "needs_background": "light"
     },
     "output_type": "display_data"
    }
   ],
   "source": [
    "#plot ROC curve using fpr and tpr calculated by me\n",
    "pyplot.plot(RocCurve(y_test, lr_probs)[0], RocCurve(y_test, lr_probs)[1], marker = '.', label='Logistic')\n",
    "pyplot.xlabel('False Positive Rate')\n",
    "pyplot.ylabel('True Positive Rate')\n",
    "pyplot.legend()\n",
    "pyplot.show()"
   ]
  },
  {
   "cell_type": "code",
   "execution_count": 20,
   "id": "640776cd",
   "metadata": {},
   "outputs": [
    {
     "data": {
      "image/png": "[encoded data removed]",
      "text/plain": [
       "<Figure size 432x288 with 1 Axes>"
      ]
     },
     "metadata": {
      "needs_background": "light"
     },
     "output_type": "display_data"
    }
   ],
   "source": [
    "# plot the roc curve using builtin fpr and tpr\n",
    "pyplot.plot(lr_fpr, lr_tpr, marker='.', label='Logistic')\n",
    "pyplot.xlabel('False Positive Rate')\n",
    "pyplot.ylabel('True Positive Rate')\n",
    "pyplot.legend()\n",
    "pyplot.show()"
   ]
  },
  {
   "cell_type": "code",
   "execution_count": 21,
   "id": "7b4b8675",
   "metadata": {},
   "outputs": [],
   "source": [
    "def auc_score(y_test, lr_probs):\n",
    "    fpr, tpr = RocCurve(y_test, lr_probs)\n",
    "    return (fpr[:-1]-fpr[1:])@((tpr[:-1]+tpr[1:])/2)"
   ]
  },
  {
   "cell_type": "code",
   "execution_count": 22,
   "id": "bbd51d29",
   "metadata": {},
   "outputs": [
    {
     "data": {
      "text/plain": [
       "0.9025320512820513"
      ]
     },
     "execution_count": 22,
     "metadata": {},
     "output_type": "execute_result"
    }
   ],
   "source": [
    "auc_score(y_test, lr_probs)"
   ]
  }
 ],
 "metadata": {
  "kernelspec": {
   "display_name": "Python 3 (ipykernel)",
   "language": "python",
   "name": "python3"
  },
  "language_info": {
   "codemirror_mode": {
    "name": "ipython",
    "version": 3
   },
   "file_extension": ".py",
   "mimetype": "text/x-python",
   "name": "python",
   "nbconvert_exporter": "python",
   "pygments_lexer": "ipython3",
   "version": "3.9.12"
  }
 },
 "nbformat": 4,
 "nbformat_minor": 5
}
