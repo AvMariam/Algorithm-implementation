{
 "cells": [
  {
   "cell_type": "code",
   "execution_count": null,
   "id": "b93b15d0",
   "metadata": {},
   "outputs": [],
   "source": [
    "import pandas as pd\n",
    "import numpy as np\n",
    "from sklearn.model_selection import train_test_split\n",
    "from sklearn import linear_model\n",
    "from sklearn.model_selection import KFold"
   ]
  },
  {
   "cell_type": "code",
   "execution_count": null,
   "id": "3a04c4ba",
   "metadata": {},
   "outputs": [],
   "source": [
    "data = pd.read_csv(\"Ecommerce.csv\")\n",
    "data.head()"
   ]
  },
  {
   "cell_type": "code",
   "execution_count": null,
   "id": "88e65b9c",
   "metadata": {},
   "outputs": [],
   "source": [
    "data_num = data[['Avg Session Length', 'Time on App', 'Time on Website', 'Length of Membership']]\n",
    "Y = data[['Yearly Amount Spent']]"
   ]
  },
  {
   "cell_type": "code",
   "execution_count": null,
   "id": "c4874064",
   "metadata": {},
   "outputs": [],
   "source": [
    "X, X_test, Y, Y_test = train_test_split(data_num, data[['Yearly Amount Spent']], test_size=0.2)"
   ]
  },
  {
   "cell_type": "code",
   "execution_count": null,
   "id": "e2269c48",
   "metadata": {},
   "outputs": [],
   "source": [
    "class K_Fold():\n",
    "    def __init__(self, n_splits=5, shuffle=False, random_state=None):\n",
    "        self.n_splits = n_splits\n",
    "        self.shuffle = shuffle\n",
    "        self.random_state = random_state\n",
    "        if not self.shuffle and self.random_state is not None: \n",
    "             raise ValueError(\"Setting a random_state has no effect since shuffle is False. You should leave random_state to its default (None), or set shuffle=True.\")\n",
    "    \n",
    "    def split(self, X):\n",
    "        n_samples = len(X)\n",
    "        if self.n_splits > n_samples:\n",
    "             raise ValueError(f\"Cannot have number of splits n_splits={self.n_splits} greater than the number of samples: n_samples={n_samples}.\")\n",
    "        indices = np.arange(n_samples)\n",
    "        if self.shuffle == True:\n",
    "            np.random.seed(self.random_state)\n",
    "            np.random.shuffle(indices)\n",
    "        result = []\n",
    "        r = int(n_samples%self.n_splits)\n",
    "        d = int(n_samples//self.n_splits)\n",
    "        start = 0\n",
    "        if r>0:\n",
    "            end = d + 1\n",
    "            r -= 1\n",
    "        else:\n",
    "            end = d\n",
    "        while self.n_splits > 0 and end != n_samples-1:\n",
    "            result.append((np.append(indices[:start], indices[end:]), indices[start:end]))\n",
    "            self.n_splits -= 1\n",
    "            start = end\n",
    "            if r > 0:\n",
    "                end += d + 1\n",
    "                r -= 1\n",
    "            else:\n",
    "                end += d\n",
    "        return result"
   ]
  },
  {
   "cell_type": "markdown",
   "id": "9b7ee192",
   "metadata": {},
   "source": [
    "Evaluating model with K-fold"
   ]
  },
  {
   "cell_type": "code",
   "execution_count": null,
   "id": "88415907",
   "metadata": {},
   "outputs": [],
   "source": [
    "scores = []\n",
    "reg = linear_model.LinearRegression()\n",
    "cv = KFold(n_splits=10, shuffle=True)\n",
    "for train_index, test_index in cv.split(X):\n",
    "    X_train, X_val, y_train, y_val = X.iloc[train_index], X.iloc[test_index], Y.iloc[train_index], Y.iloc[test_index]\n",
    "    reg.fit(X_train, y_train)\n",
    "    scores.append(reg.score(X_val, y_val))"
   ]
  },
  {
   "cell_type": "code",
   "execution_count": null,
   "id": "84d3a912",
   "metadata": {},
   "outputs": [],
   "source": [
    "scores = np.mean(scores)\n",
    "scores"
   ]
  },
  {
   "cell_type": "code",
   "execution_count": null,
   "id": "e15fae25",
   "metadata": {},
   "outputs": [],
   "source": [
    "reg.fit(X, Y)\n",
    "reg.score(X_test, Y_test)"
   ]
  },
  {
   "cell_type": "code",
   "execution_count": null,
   "id": "898ea97b",
   "metadata": {},
   "outputs": [],
   "source": [
    "scores = []\n",
    "reg = linear_model.LinearRegression()\n",
    "my_cv = K_Fold(n_splits=10, shuffle=True)\n",
    "for train_index, test_index in my_cv.split(X):\n",
    "    X_train, X_val, y_train, y_val = X.iloc[train_index], X.iloc[test_index], Y.iloc[train_index], Y.iloc[test_index]\n",
    "    reg.fit(X_train, y_train)\n",
    "    scores.append(reg.score(X_val, y_val))"
   ]
  },
  {
   "cell_type": "code",
   "execution_count": null,
   "id": "a385f46b",
   "metadata": {},
   "outputs": [],
   "source": [
    "scores = np.mean(scores)\n",
    "scores"
   ]
  },
  {
   "cell_type": "code",
   "execution_count": null,
   "id": "9449829c",
   "metadata": {},
   "outputs": [],
   "source": [
    "reg.fit(X, Y)\n",
    "reg.score(X_test, Y_test)"
   ]
  }
 ],
 "metadata": {
  "kernelspec": {
   "display_name": "Python 3 (ipykernel)",
   "language": "python",
   "name": "python3"
  },
  "language_info": {
   "codemirror_mode": {
    "name": "ipython",
    "version": 3
   },
   "file_extension": ".py",
   "mimetype": "text/x-python",
   "name": "python",
   "nbconvert_exporter": "python",
   "pygments_lexer": "ipython3",
   "version": "3.9.12"
  }
 },
 "nbformat": 4,
 "nbformat_minor": 5
}
