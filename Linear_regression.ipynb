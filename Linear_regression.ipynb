{
 "cells": [
  {
   "cell_type": "code",
   "execution_count": null,
   "metadata": {},
   "outputs": [],
   "source": [
    "import pandas as pd\n",
    "import numpy as np\n",
    "import matplotlib.pyplot as plt\n",
    "from sklearn.model_selection import train_test_split\n",
    "from sklearn import linear_model\n",
    "from sklearn.metrics import mean_squared_error, mean_absolute_error, r2_score\n",
    "from sklearn.model_selection import KFold"
   ]
  },
  {
   "cell_type": "markdown",
   "metadata": {},
   "source": [
    "#### Load the dataset from the file Ecommerce.csv"
   ]
  },
  {
   "cell_type": "markdown",
   "metadata": {},
   "source": [
    "```\n",
    "This dataset includes the following data for 200 online customers:\n",
    "\n",
    "- Email\n",
    "- Adress\n",
    "- Avatar\n",
    "- Avg Session Length (everage time they spent on usage)\n",
    "- Time on App (time they spent using the application)\n",
    "- Time on Website (time they spent using the website)\n",
    "- Length of Membership (for how long they have been a user)\n",
    "- Yearly Amount Spent (how much money they spend yearly)\n",
    "\n",
    "Yout goal will be to estimate the value of the Yearly Amount Spent using the feature(s) of the users\n",
    "```"
   ]
  },
  {
   "cell_type": "markdown",
   "metadata": {},
   "source": [
    "#### Get rid of non-numerical columns of the dataset"
   ]
  },
  {
   "cell_type": "code",
   "execution_count": null,
   "metadata": {},
   "outputs": [],
   "source": [
    "data = pd.read_csv(\"Ecommerce.csv\")\n",
    "data.head()"
   ]
  },
  {
   "cell_type": "code",
   "execution_count": null,
   "metadata": {
    "scrolled": true
   },
   "outputs": [],
   "source": [
    "data.info()"
   ]
  },
  {
   "cell_type": "code",
   "execution_count": null,
   "metadata": {},
   "outputs": [],
   "source": [
    "data_num = data[['Avg Session Length', 'Time on App', 'Time on Website', 'Length of Membership']]\n",
    "Y = data[['Yearly Amount Spent']]"
   ]
  },
  {
   "cell_type": "markdown",
   "metadata": {},
   "source": [
    "#### Use Yearly Amount Spent as your target variable. Plot the relationship of each of the numerical features with the target variable"
   ]
  },
  {
   "cell_type": "code",
   "execution_count": null,
   "metadata": {},
   "outputs": [],
   "source": [
    "fig, axes = plt.subplots(2,2, figsize = (20, 15))\n",
    "fig.tight_layout\n",
    "\n",
    "axes[0][0].scatter(data[\"Avg Session Length\"], data[\"Yearly Amount Spent\"])\n",
    "axes[0][0].set_xlabel(\"Avg Session Length\", size = 13)\n",
    "axes[0][0].set_ylabel(\"Yearly Amount Spent\", size = 13)\n",
    "\n",
    "axes[0][1].scatter(data[\"Time on App\"], data[\"Yearly Amount Spent\"])\n",
    "axes[0][1].set_xlabel(\"Time on App\", size = 13)\n",
    "axes[0][1].set_ylabel(\"Yearly Amount Spent\", size = 13)\n",
    "\n",
    "axes[1][0].scatter(data[\"Time on Website\"], data[\"Yearly Amount Spent\"])\n",
    "axes[1][0].set_xlabel(\"Time on Website\", size = 13)\n",
    "axes[1][0].set_ylabel(\"Yearly Amount Spent\", size = 13)\n",
    "\n",
    "axes[1][1].scatter(data[\"Length of Membership\"], data[\"Yearly Amount Spent\"])\n",
    "axes[1][1].set_xlabel(\"Length of Membership\", size = 13)\n",
    "axes[1][1].set_ylabel(\"Yearly Amount Spent\", size = 13)\n",
    "\n",
    "plt.show"
   ]
  },
  {
   "cell_type": "markdown",
   "metadata": {},
   "source": [
    "#### Leave only one feature that has a linear relationship with the target variable. Divide the dataset into training and test sets with the ratio 80:20."
   ]
  },
  {
   "cell_type": "code",
   "execution_count": null,
   "metadata": {},
   "outputs": [],
   "source": [
    "X_train, X_test, y_train, y_test = train_test_split(data[['Length of Membership']], data['Yearly Amount Spent'], test_size = 0.2, random_state=0)"
   ]
  },
  {
   "cell_type": "code",
   "execution_count": null,
   "metadata": {},
   "outputs": [],
   "source": [
    "X_train = np.array(X_train)"
   ]
  },
  {
   "cell_type": "code",
   "execution_count": null,
   "metadata": {},
   "outputs": [],
   "source": [
    "X_test = np.array(X_test)"
   ]
  },
  {
   "cell_type": "markdown",
   "metadata": {},
   "source": [
    "#### Use the resulting train and test sets with the next 2 functions to fit linear regression and plot the resulting regression line."
   ]
  },
  {
   "cell_type": "markdown",
   "metadata": {},
   "source": [
    "The class is `LinReg()` that finds equation of the line which best describes the fitted data. Using that equation model predicts target value for unseen data, and calculates R2 score for predicted values. "
   ]
  },
  {
   "cell_type": "code",
   "execution_count": null,
   "metadata": {},
   "outputs": [],
   "source": [
    "class LinReg():\n",
    "    \"\"\"\n",
    "    :param data_vector: A pandas series object (i.e. a column of a dataframe),\n",
    "                        where each element is a data point (x)\n",
    "    :param response_vector: A pandas series object (i.e. a column of a dataframe),\n",
    "                        where each element is label (y)\n",
    "    :return: numpy array beta of coefficients of the regression\n",
    "    Note: You can avoid the intercept for simplicity\n",
    "    \"\"\"\n",
    "    def __init__(self):\n",
    "        self.X_train = None\n",
    "        self.y_train = None\n",
    "        self.coef = None\n",
    "        self.intercept = None\n",
    "        \n",
    "    def fit(self, X_train, y_train):\n",
    "        self.X_train = X_train\n",
    "        self.y_train = y_train\n",
    "        self.data_matrix = np.append(np.ones((self.X_train.shape[0], 1)), self.X_train, 1)\n",
    "        self.betta = np.dot(np.dot(np.linalg.inv(np.dot(self.data_matrix.T, self.data_matrix)), self.data_matrix.T), self.y_train)\n",
    "        self.intercept = self.betta[0]\n",
    "        self.coef = self.betta[1:]\n",
    "        \n",
    "    def predict(self, X_test):\n",
    "        y_pred = self.intercept + np.dot(X_test, self.coef)\n",
    "        return y_pred\n",
    "    \n",
    "    def score(self, X, y):\n",
    "        return r2_score(y, self.predict(X))"
   ]
  },
  {
   "cell_type": "code",
   "execution_count": null,
   "metadata": {},
   "outputs": [],
   "source": [
    "reg = LinReg()\n",
    "reg.fit(X_train, y_train)"
   ]
  },
  {
   "cell_type": "code",
   "execution_count": null,
   "metadata": {},
   "outputs": [],
   "source": [
    "reg.coef, reg.intercept"
   ]
  },
  {
   "cell_type": "code",
   "execution_count": null,
   "metadata": {},
   "outputs": [],
   "source": [
    "predictions = reg.predict(X_test)"
   ]
  },
  {
   "cell_type": "markdown",
   "metadata": {},
   "source": [
    "The second function is `plot_line` function, that takes $\\beta_0, \\beta_1, x, y$ and plots a scatter plot of the data, and the line $y = \\beta_0 + \\beta_1 x$. And saves the plot in `YOURNAME.png`"
   ]
  },
  {
   "cell_type": "code",
   "execution_count": null,
   "metadata": {},
   "outputs": [],
   "source": [
    "def plot_fitted_line(b0: float,\n",
    "                     b1: float,\n",
    "                     X,\n",
    "                     y):\n",
    "    \"\"\"\n",
    "    :param b0: Intersept of line to plot\n",
    "    Note: avoid this if you don't have an intercept in the previous function\n",
    "    :param b1: Slope of the line to plot\n",
    "    :param X: A pandas series object (i.e. a column of a dataframe),\n",
    "                        where each element is a data point (x coordinates)\n",
    "    :param y: A pandas series object (i.e. a column of a dataframe),\n",
    "                        where each element is a label (y coordinates)\n",
    "    \"\"\"\n",
    "    y_line = [b1*x + b0 for x in X]\n",
    "    plt.plot(X, y_line, c='red')\n",
    "    plt.scatter(X, y)\n",
    "    plt.savefig(fname='MyFigure.png')\n",
    "    plt.show"
   ]
  },
  {
   "cell_type": "code",
   "execution_count": null,
   "metadata": {},
   "outputs": [],
   "source": [
    "plot_fitted_line(reg.intercept, reg.coef, X_train, y_train)"
   ]
  },
  {
   "cell_type": "markdown",
   "metadata": {},
   "source": [
    "#### Now fit the linear regression to the data containing only 1 feature using sklearn and compare the results with your own fit_1d_linear_regression function"
   ]
  },
  {
   "cell_type": "code",
   "execution_count": null,
   "metadata": {},
   "outputs": [],
   "source": [
    "model = linear_model.LinearRegression()\n",
    "model.fit(X_train, y_train)"
   ]
  },
  {
   "cell_type": "code",
   "execution_count": null,
   "metadata": {
    "scrolled": true
   },
   "outputs": [],
   "source": [
    "model.coef_, model.intercept_"
   ]
  },
  {
   "cell_type": "code",
   "execution_count": null,
   "metadata": {},
   "outputs": [],
   "source": [
    "plot_fitted_line(model.intercept_, model.coef_[0], X_train, y_train)"
   ]
  },
  {
   "cell_type": "markdown",
   "metadata": {},
   "source": [
    "#### Use sklearn.metrics to calculate Mean absolute error, Mean squared error, Root mean squared error and R-squared for the results of your own function vs the sklearn regression results. Try to interprete your results."
   ]
  },
  {
   "cell_type": "code",
   "execution_count": null,
   "metadata": {},
   "outputs": [],
   "source": [
    "my_predictions = reg.predict(X_test)\n",
    "y_pred = model.predict(X_test)"
   ]
  },
  {
   "cell_type": "code",
   "execution_count": null,
   "metadata": {
    "scrolled": true
   },
   "outputs": [],
   "source": [
    "print(f'Mean absolute error for my model: {mean_absolute_error(y_test, my_predictions)}')\n",
    "print(f'Mean absolute error for orginal model: {mean_absolute_error(y_test, y_pred)}\\n')\n",
    "\n",
    "print(f'Mean squared error for my model: {mean_squared_error(y_test, my_predictions)}')\n",
    "print(f'Mean squared error for original model: {mean_squared_error(y_test, y_pred)}\\n')\n",
    "\n",
    "print(f'Root mean squared error for my model: {np.sqrt(mean_squared_error(y_test, my_predictions))}')\n",
    "print(f'Root mean squared error for original model: {np.sqrt(mean_squared_error(y_test, y_pred))}\\n')\n",
    "\n",
    "print(f'R-squared for my model: {r2_score(y_test, my_predictions)}')\n",
    "print(f'R-squared for original model: {r2_score(y_test, y_pred)}')"
   ]
  },
  {
   "cell_type": "markdown",
   "metadata": {},
   "source": [
    "#### Fit linear regression to the data containing all numerical features using sklearn and use the same metrics to evaluate how good the model is."
   ]
  },
  {
   "cell_type": "code",
   "execution_count": null,
   "metadata": {},
   "outputs": [],
   "source": [
    "X_train, X_test, y_train, y_test = train_test_split(data_num, Y, test_size=0.2)"
   ]
  },
  {
   "cell_type": "code",
   "execution_count": null,
   "metadata": {},
   "outputs": [],
   "source": [
    "full_reg = LinReg()\n",
    "full_reg.fit(X_train, y_train)\n",
    "predictions = full_reg.predict(X_test)"
   ]
  },
  {
   "cell_type": "code",
   "execution_count": null,
   "metadata": {},
   "outputs": [],
   "source": [
    "model_full = linear_model.LinearRegression()\n",
    "model_full.fit(X_train, y_train)\n",
    "y_pred = model_full.predict(X_test)"
   ]
  },
  {
   "cell_type": "code",
   "execution_count": null,
   "metadata": {
    "scrolled": true
   },
   "outputs": [],
   "source": [
    "print(f'Mean absolute error for my model: {mean_absolute_error(y_test, predictions)}')\n",
    "print(f'Mean absolute error for orginal model: {mean_absolute_error(y_test, y_pred)}\\n')\n",
    "\n",
    "print(f'Mean squared error for my model: {mean_squared_error(y_test, predictions)}')\n",
    "print(f'Mean squared error for original model: {mean_squared_error(y_test, y_pred)}\\n')\n",
    "\n",
    "print(f'Root mean squared error for my model: {np.sqrt(mean_squared_error(y_test, predictions))}')\n",
    "print(f'Root mean squared error for original model: {np.sqrt(mean_squared_error(y_test, y_pred))}\\n')\n",
    "\n",
    "print(f'R-squared for my model: {r2_score(y_test, predictions)}')\n",
    "print(f'R-squared for original model: {r2_score(y_test, y_pred)}')"
   ]
  }
 ],
 "metadata": {
  "kernelspec": {
   "display_name": "Python 3 (ipykernel)",
   "language": "python",
   "name": "python3"
  },
  "language_info": {
   "codemirror_mode": {
    "name": "ipython",
    "version": 3
   },
   "file_extension": ".py",
   "mimetype": "text/x-python",
   "name": "python",
   "nbconvert_exporter": "python",
   "pygments_lexer": "ipython3",
   "version": "3.9.12"
  }
 },
 "nbformat": 4,
 "nbformat_minor": 4
}
