{
 "cells": [
  {
   "cell_type": "code",
   "execution_count": 1,
   "metadata": {
    "id": "lfw_ttHcX3vU"
   },
   "outputs": [],
   "source": [
    "import numpy as np\n",
    "from sklearn.model_selection import train_test_split\n",
    "from sklearn.metrics import accuracy_score\n",
    "from sklearn.discriminant_analysis import LinearDiscriminantAnalysis as LDA"
   ]
  },
  {
   "cell_type": "code",
   "execution_count": 9,
   "metadata": {
    "id": "LSNxlj8zUun7"
   },
   "outputs": [],
   "source": [
    "class my_LDA:\n",
    "\n",
    "    def fit(self, X, y):\n",
    "        self.cls = np.unique(y)\n",
    "        self.means = np.zeros((len(self.cls), X.shape[1]))\n",
    "        self.sigma = np.zeros((X.shape[1], X.shape[1]))\n",
    "        self.p = np.zeros(len(self.cls))\n",
    "        \n",
    "        for i, c in enumerate(self.cls):\n",
    "            X_c = X[y == c]\n",
    "            self.means[i, :] = np.mean(X_c, axis=0)\n",
    "            self.sigma += (X_c.shape[0] - 1) * np.cov(X_c.T)\n",
    "            self.p[i] = X_c.shape[0] / X.shape[0]\n",
    "        \n",
    "        self.sigma /= (X.shape[0] - len(self.cls))\n",
    "        \n",
    "        \n",
    "    def predict(self, X_test):\n",
    "        y_pred = []\n",
    "        inv_sigma = np.linalg.inv(self.sigma)\n",
    "        det_sigma = np.sqrt(np.linalg.det(self.sigma))\n",
    "        for x in X_test:\n",
    "            G = []\n",
    "            for c in range(len(self.cls)):\n",
    "                G.append(self.p[c]*np.power(np.e, -0.5*(x-self.means[c]).T@inv_sigma@(x-self.means[c]))/np.power(2*np.pi, len(self.cls)/2)*det_sigma)\n",
    "            y_pred.append(self.cls[np.argmax(G)])\n",
    "        return y_pred\n",
    "                   \n",
    "    def score(self, y_true, y_pred):\n",
    "        return accuracy_score(y_true, y_pred)"
   ]
  },
  {
   "cell_type": "markdown",
   "metadata": {
    "id": "pXNdTvY_Xh5D"
   },
   "source": [
    "# Testing"
   ]
  },
  {
   "cell_type": "code",
   "execution_count": 3,
   "metadata": {
    "id": "7P41xHREU4q-"
   },
   "outputs": [],
   "source": [
    "class0_len = 1000\n",
    "X0 = np.random.multivariate_normal([1,2,-1], np.array([[1, 0.9, 0.9], [0.9, 1, 0.9], [0.9, 0.9, 1]]), size=class0_len)\n",
    "y0 = [0]*class0_len\n",
    "\n",
    "class1_len = 3000\n",
    "X1 = np.random.multivariate_normal([1,1,0], np.array([[1, 0.9, 0.9], [0.9, 1, 0.9], [0.9, 0.9, 1]]), size=class1_len)\n",
    "y1 = [1]*class1_len\n",
    "\n",
    "X = np.concatenate((X0, X1))\n",
    "y = np.array(y0+y1)\n",
    "\n",
    "X_train, X_test, y_train, y_test = train_test_split(X, np.array(y))"
   ]
  },
  {
   "cell_type": "code",
   "execution_count": 16,
   "metadata": {
    "id": "KW-jEF6NVAE8",
    "scrolled": false
   },
   "outputs": [
    {
     "data": {
      "text/plain": [
       "0.99"
      ]
     },
     "execution_count": 16,
     "metadata": {},
     "output_type": "execute_result"
    }
   ],
   "source": [
    "lda = my_LDA()\n",
    "lda.fit(X_train, y_train)\n",
    "accuracy_score(y_test, lda.predict(X_test))"
   ]
  },
  {
   "cell_type": "code",
   "execution_count": 15,
   "metadata": {},
   "outputs": [
    {
     "data": {
      "text/plain": [
       "0.99"
      ]
     },
     "execution_count": 15,
     "metadata": {},
     "output_type": "execute_result"
    }
   ],
   "source": [
    "clf = LDA()\n",
    "clf.fit(X_train, y_train)\n",
    "accuracy_score(y_test, clf.predict(X_test))"
   ]
  }
 ],
 "metadata": {
  "colab": {
   "provenance": []
  },
  "kernelspec": {
   "display_name": "Python 3 (ipykernel)",
   "language": "python",
   "name": "python3"
  },
  "language_info": {
   "codemirror_mode": {
    "name": "ipython",
    "version": 3
   },
   "file_extension": ".py",
   "mimetype": "text/x-python",
   "name": "python",
   "nbconvert_exporter": "python",
   "pygments_lexer": "ipython3",
   "version": "3.9.12"
  }
 },
 "nbformat": 4,
 "nbformat_minor": 1
}
